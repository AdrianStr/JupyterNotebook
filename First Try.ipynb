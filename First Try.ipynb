{
 "cells": [
  {
   "cell_type": "markdown",
   "metadata": {},
   "source": [
    "# This is my first test with a jupyter notebook.\n",
    "\n",
    "First of all I am going to play around with a simple String."
   ]
  },
  {
   "cell_type": "code",
   "execution_count": 1,
   "metadata": {},
   "outputs": [
    {
     "name": "stdout",
     "output_type": "stream",
     "text": [
      "Hello, this is my first try with a jupyter notebook.\n"
     ]
    }
   ],
   "source": [
    "print(\"Hello, this is my first try with a jupyter notebook.\")"
   ]
  },
  {
   "cell_type": "markdown",
   "metadata": {},
   "source": [
    "## Now some math tests."
   ]
  },
  {
   "cell_type": "code",
   "execution_count": 2,
   "metadata": {},
   "outputs": [
    {
     "name": "stdout",
     "output_type": "stream",
     "text": [
      "Some math tests: \n"
     ]
    }
   ],
   "source": [
    "print(\"Some math tests: \")"
   ]
  },
  {
   "cell_type": "code",
   "execution_count": 3,
   "metadata": {},
   "outputs": [
    {
     "name": "stdout",
     "output_type": "stream",
     "text": [
      "Result is: 45\n"
     ]
    }
   ],
   "source": [
    "test1 = 1+2+3+4+5+6+7+8+9\n",
    "print(\"Result is: %s\" % test1)"
   ]
  },
  {
   "cell_type": "code",
   "execution_count": 4,
   "metadata": {},
   "outputs": [
    {
     "name": "stdout",
     "output_type": "stream",
     "text": [
      "Result is: 42\n"
     ]
    }
   ],
   "source": [
    "test2 = test1 - (91 % 4)\n",
    "print(\"Result is: %s\" % test2)"
   ]
  },
  {
   "cell_type": "code",
   "execution_count": 5,
   "metadata": {},
   "outputs": [
    {
     "name": "stdout",
     "output_type": "stream",
     "text": [
      "Result is: 87\n"
     ]
    }
   ],
   "source": [
    "test3 = test1 + test2\n",
    "print(\"Result is: %s\" % test3)"
   ]
  },
  {
   "cell_type": "markdown",
   "metadata": {},
   "source": [
    "## Testing import of datetime for showing the current datetime"
   ]
  },
  {
   "cell_type": "code",
   "execution_count": 6,
   "metadata": {},
   "outputs": [
    {
     "name": "stdout",
     "output_type": "stream",
     "text": [
      "The current date and time is: 2018-05-13 12:21:28.356786\n"
     ]
    }
   ],
   "source": [
    "import datetime\n",
    "test4 = datetime.datetime.now()\n",
    "print(\"The current date and time is: %s\" % test4)"
   ]
  },
  {
   "cell_type": "markdown",
   "metadata": {},
   "source": [
    "## End of playing around"
   ]
  },
  {
   "cell_type": "code",
   "execution_count": 7,
   "metadata": {},
   "outputs": [
    {
     "name": "stdout",
     "output_type": "stream",
     "text": [
      "\n",
      "Thank you for checking out my first python test with a jupyter notebook.\n",
      "************************************************************************\n",
      "***   Adrian Strzelczyk - 287072 - FH Lübeck                         ***\n",
      "************************************************************************\n",
      "      \n"
     ]
    }
   ],
   "source": [
    "print(\"\"\"\n",
    "Thank you for checking out my first python test with a jupyter notebook.\n",
    "************************************************************************\n",
    "***   Adrian Strzelczyk - 287072 - FH Lübeck                         ***\n",
    "************************************************************************\n",
    "      \"\"\")"
   ]
  }
 ],
 "metadata": {
  "kernelspec": {
   "display_name": "Python 2",
   "language": "python",
   "name": "python2"
  },
  "language_info": {
   "codemirror_mode": {
    "name": "ipython",
    "version": 2
   },
   "file_extension": ".py",
   "mimetype": "text/x-python",
   "name": "python",
   "nbconvert_exporter": "python",
   "pygments_lexer": "ipython2",
   "version": "2.7.15rc1"
  }
 },
 "nbformat": 4,
 "nbformat_minor": 2
}
