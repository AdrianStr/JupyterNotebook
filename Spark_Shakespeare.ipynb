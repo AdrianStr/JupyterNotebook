{
 "cells": [
  {
   "cell_type": "code",
   "execution_count": 1,
   "metadata": {},
   "outputs": [],
   "source": [
    "# Setup of Apache Spark context\n",
    "# - Needed to install openjdk8, scala and findspark on ubuntu\n",
    "# - Also copied spark folder to /usr/local/spark-2.3.1-bin-hadoop2.7\n",
    "# - defined $SPARK_HOME variable\n",
    "# Started jupyter notebook normally with 'jupyter notebook' command\n",
    "# Import of findspark and initializing it to import pyspark\n",
    "# If this block runs without errors, Spark is ready to be used!\n",
    "import findspark\n",
    "findspark.init('/usr/local/spark-2.3.1-bin-hadoop2.7')\n",
    "import pyspark"
   ]
  },
  {
   "cell_type": "code",
   "execution_count": 2,
   "metadata": {},
   "outputs": [],
   "source": [
    "# import all needed functions and configrations\n",
    "from pyspark.sql.functions import regexp_replace, trim, col, lower, split, explode, desc\n",
    "from pyspark.sql import SQLContext\n",
    "from pyspark import SparkContext, SparkConf\n",
    "conf = SparkConf().setAppName('pyspark')\n",
    "sc = SparkContext(conf=conf)\n",
    "sqlContext = SQLContext(sc)"
   ]
  },
  {
   "cell_type": "code",
   "execution_count": 3,
   "metadata": {},
   "outputs": [
    {
     "name": "stdout",
     "output_type": "stream",
     "text": [
      "+------------------------------------------------------------------+\n",
      "|lower(trim(regexp_replace(regexp_replace(value, [^\\w\\s], ), _, )))|\n",
      "+------------------------------------------------------------------+\n",
      "|1609                                                              |\n",
      "|                                                                  |\n",
      "|the sonnets                                                       |\n",
      "|                                                                  |\n",
      "|by william shakespeare                                            |\n",
      "|                                                                  |\n",
      "|                                                                  |\n",
      "|                                                                  |\n",
      "|1                                                                 |\n",
      "|from fairest creatures we desire increase                         |\n",
      "+------------------------------------------------------------------+\n",
      "only showing top 10 rows\n",
      "\n"
     ]
    }
   ],
   "source": [
    "# Helper methods\n",
    "def removePunctuation(text):\n",
    "    return lower(trim(regexp_replace(regexp_replace(text, '[^\\w\\s]', ''),'_','')))\n",
    "# Count words in the given text\n",
    "def countWords(text):\n",
    "    return (text.groupBy('word').count())\n",
    "\n",
    "\n",
    "\n",
    "# ***** Beginn of exercise: ********\n",
    "# Load and save shakespeare file with removed punctuation\n",
    "shakespeare = sqlContext.read.text(\"shakespeare_cleaned.txt\").select(removePunctuation(col('value')))\n",
    "\n",
    "# print the first 10 lines to check if file is loaded correctly\n",
    "shakespeare.show(10, truncate=False)"
   ]
  },
  {
   "cell_type": "code",
   "execution_count": 4,
   "metadata": {},
   "outputs": [
    {
     "name": "stdout",
     "output_type": "stream",
     "text": [
      "+-----------+\n",
      "|       word|\n",
      "+-----------+\n",
      "|       1609|\n",
      "|        the|\n",
      "|    sonnets|\n",
      "|         by|\n",
      "|    william|\n",
      "|shakespeare|\n",
      "|          1|\n",
      "|       from|\n",
      "|    fairest|\n",
      "|  creatures|\n",
      "|         we|\n",
      "|     desire|\n",
      "|   increase|\n",
      "|       that|\n",
      "|    thereby|\n",
      "|    beautys|\n",
      "|       rose|\n",
      "|      might|\n",
      "|      never|\n",
      "|        die|\n",
      "+-----------+\n",
      "only showing top 20 rows\n",
      "\n"
     ]
    }
   ],
   "source": [
    "# Split whole text into single words and save it\n",
    "shakespeareWords = shakespeare.select(explode(split(shakespeare[0],\"\\s\")).alias(\"word\")).where('word != \"\"')\n",
    "shakespeareWords.show()"
   ]
  },
  {
   "cell_type": "code",
   "execution_count": 8,
   "metadata": {},
   "outputs": [
    {
     "data": {
      "text/plain": [
       "'Overall words: 882996'"
      ]
     },
     "metadata": {},
     "output_type": "display_data"
    }
   ],
   "source": [
    "# Count overall words\n",
    "display('Overall words: %s' % shakespeareWords.count())"
   ]
  },
  {
   "cell_type": "code",
   "execution_count": 9,
   "metadata": {},
   "outputs": [
    {
     "name": "stdout",
     "output_type": "stream",
     "text": [
      "+----+-----+\n",
      "|word|count|\n",
      "+----+-----+\n",
      "| the|27361|\n",
      "| and|26028|\n",
      "|   i|20681|\n",
      "|  to|19150|\n",
      "|  of|17463|\n",
      "|   a|14593|\n",
      "| you|13615|\n",
      "|  my|12480|\n",
      "|  in|10956|\n",
      "|that|10890|\n",
      "|  is| 9134|\n",
      "| not| 8497|\n",
      "|with| 7771|\n",
      "|  me| 7768|\n",
      "|  it| 7678|\n",
      "| for| 7558|\n",
      "| his| 6857|\n",
      "|  be| 6857|\n",
      "|your| 6655|\n",
      "|this| 6602|\n",
      "| but| 6265|\n",
      "|  he| 6251|\n",
      "|have| 5880|\n",
      "|  as| 5733|\n",
      "+----+-----+\n",
      "only showing top 24 rows\n",
      "\n"
     ]
    }
   ],
   "source": [
    "# Calculate top 24 words used and order by count as defined in the exercise\n",
    "exerciseResult = countWords(shakespeareWords).orderBy(desc('count'))\n",
    "exerciseResult.show(24)"
   ]
  },
  {
   "cell_type": "code",
   "execution_count": null,
   "metadata": {},
   "outputs": [],
   "source": []
  }
 ],
 "metadata": {
  "kernelspec": {
   "display_name": "Python 3",
   "language": "python",
   "name": "python3"
  },
  "language_info": {
   "codemirror_mode": {
    "name": "ipython",
    "version": 3
   },
   "file_extension": ".py",
   "mimetype": "text/x-python",
   "name": "python",
   "nbconvert_exporter": "python",
   "pygments_lexer": "ipython3",
   "version": "3.6.5"
  }
 },
 "nbformat": 4,
 "nbformat_minor": 2
}
